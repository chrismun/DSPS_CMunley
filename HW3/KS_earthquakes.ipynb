{
  "cells": [
    {
      "cell_type": "markdown",
      "metadata": {
        "colab_type": "text",
        "id": "view-in-github"
      },
      "source": [
        "<a href=\"https://colab.research.google.com/github/fedhere/DSPS_FBianco/blob/main/HW3/KS_earthquakes.ipynb\" target=\"_parent\"><img src=\"https://colab.research.google.com/assets/colab-badge.svg\" alt=\"Open In Colab\"/></a>"
      ]
    },
    {
      "cell_type": "markdown",
      "metadata": {
        "id": "Uk3iBT7phXry"
      },
      "source": [
        "Created by FedericaBBianco @fedhere for DSPS/MLNPS\n",
        "# Kolmogorov Smirnoff test, application to earthquake data"
      ]
    },
    {
      "cell_type": "code",
      "execution_count": 1,
      "metadata": {
        "ExecuteTime": {
          "end_time": "2019-09-09T01:40:01.895798Z",
          "start_time": "2019-09-09T01:40:01.890474Z"
        },
        "colab": {
          "base_uri": "https://localhost:8080/",
          "height": 34
        },
        "id": "LS78mdVthXrz",
        "outputId": "92c6507b-0221-4383-87ae-ebff8c8cbde0"
      },
      "outputs": [
        {
          "ename": "ModuleNotFoundError",
          "evalue": "No module named 'pylab'",
          "output_type": "error",
          "traceback": [
            "\u001b[0;31m---------------------------------------------------------------------------\u001b[0m",
            "\u001b[0;31mModuleNotFoundError\u001b[0m                       Traceback (most recent call last)",
            "\u001b[0;32m<ipython-input-1-e3d42fe76dab>\u001b[0m in \u001b[0;36m<module>\u001b[0;34m\u001b[0m\n\u001b[1;32m      2\u001b[0m \u001b[0;32mfrom\u001b[0m \u001b[0m__future__\u001b[0m \u001b[0;32mimport\u001b[0m \u001b[0mprint_function\u001b[0m\u001b[0;34m,\u001b[0m \u001b[0mdivision\u001b[0m\u001b[0;34m\u001b[0m\u001b[0;34m\u001b[0m\u001b[0m\n\u001b[1;32m      3\u001b[0m \u001b[0;32mimport\u001b[0m \u001b[0mpandas\u001b[0m \u001b[0;32mas\u001b[0m \u001b[0mpd\u001b[0m\u001b[0;34m\u001b[0m\u001b[0;34m\u001b[0m\u001b[0m\n\u001b[0;32m----> 4\u001b[0;31m \u001b[0;32mimport\u001b[0m \u001b[0mpylab\u001b[0m \u001b[0;32mas\u001b[0m \u001b[0mpl\u001b[0m\u001b[0;34m\u001b[0m\u001b[0;34m\u001b[0m\u001b[0m\n\u001b[0m\u001b[1;32m      5\u001b[0m \u001b[0;32mimport\u001b[0m \u001b[0mscipy\u001b[0m \u001b[0;32mas\u001b[0m \u001b[0msp\u001b[0m\u001b[0;34m\u001b[0m\u001b[0;34m\u001b[0m\u001b[0m\n\u001b[1;32m      6\u001b[0m \u001b[0;32mfrom\u001b[0m \u001b[0mscipy\u001b[0m \u001b[0;32mimport\u001b[0m \u001b[0mstats\u001b[0m\u001b[0;34m\u001b[0m\u001b[0;34m\u001b[0m\u001b[0m\n",
            "\u001b[0;31mModuleNotFoundError\u001b[0m: No module named 'pylab'"
          ]
        }
      ],
      "source": [
        "#all the imports I needed\n",
        "from __future__ import print_function, division\n",
        "import pandas as pd\n",
        "import pylab as pl\n",
        "import scipy as sp\n",
        "from scipy import stats\n",
        "%pylab inline\n",
        "pl.style.use(\"https://raw.githubusercontent.com/fedhere/DSPS/master/fbb.mplstyle\")"
      ]
    },
    {
      "cell_type": "markdown",
      "metadata": {
        "id": "SvIJHRyuhXr2"
      },
      "source": [
        "This homework asks you to reproduce the work in [Corral 2018](https://arxiv.org/pdf/0910.0055.pdf) which is well described, but not \"reproducible\".\n",
        "Corral 2018 uses a K-S test to show that at different magnitude scales the time gaps between earthquakes follows the same distribution. If true, this indicates that there is a consistent scaling law.\n",
        "\n",
        "The argument is a little convoluted, but it is a somewhat innovative use of the test. Corall compares the time gap between earthquakes  greater than a certain magnitude threshold with the time gaps between earthquakes above a different threshold, and finds no differences.\n",
        "\n",
        "Remind yourself exactly what the K-S test is about :\n",
        "\n",
        "    1 What is the test's Null Hypothsis that the K-S test tests?\n",
        "    \n",
        "    \n"
      ]
    },
    {
      "cell_type": "markdown",
      "metadata": {
        "id": "y8DJjYrthXr3"
      },
      "source": [
        "your answer here...\n",
        "\n",
        "\n"
      ]
    },
    {
      "cell_type": "markdown",
      "metadata": {
        "id": "V8T9XH7nhXr3"
      },
      "source": [
        "    2 What is the \"statistic\" or \"pivotal quantity\" that the test uses?\n",
        "    \n"
      ]
    },
    {
      "cell_type": "markdown",
      "metadata": {
        "ExecuteTime": {
          "end_time": "2019-09-08T21:14:09.757045Z",
          "start_time": "2019-09-08T21:14:09.753882Z"
        },
        "id": "jSSktfhAhXr4"
      },
      "source": [
        "your answer here...\n",
        "\n",
        "\n"
      ]
    },
    {
      "cell_type": "markdown",
      "metadata": {
        "ExecuteTime": {
          "end_time": "2019-09-08T21:14:43.709157Z",
          "start_time": "2019-09-08T21:14:43.704734Z"
        },
        "id": "IYoQgG1BhXr4"
      },
      "source": [
        "    3 What does the probability distribution of this statistic depend on?\n",
        "    \n",
        "   \n"
      ]
    },
    {
      "cell_type": "markdown",
      "metadata": {
        "id": "ak74uTIrhXr5"
      },
      "source": [
        "your answer here...\n",
        "\n",
        "\n",
        "    "
      ]
    },
    {
      "cell_type": "markdown",
      "metadata": {
        "id": "M-h5uhgfhXr6"
      },
      "source": [
        "# Data Retrival"
      ]
    },
    {
      "cell_type": "markdown",
      "metadata": {
        "id": "7TW_8XaNhXr6"
      },
      "source": [
        "The first reason why the paper is not techincally _reproducible_ is that, while a link is provided to retrieve the data, the link is dead. This happens often. Services like [Zenodo](https://zenodo.org/) or journals that serve data provide some insurance against this but unfortunately the standards are not strict."
      ]
    },
    {
      "cell_type": "markdown",
      "metadata": {
        "id": "Bt6gDmQJhXr7"
      },
      "source": [
        "You can retrieve the data yourself from [this website](http://service.scedc.caltech.edu/eq-catalogs/poly.php). Think about what setting up data like this means for reproducibility. Did the author comply to reproducibility standards?__ Make sure the number of entries in your final dataset is similar to that of the authors. I got 70798, instead of 77000. 10% off, which I deem close enough. You should get something similar. Use the map in the paper to determine the region of interest. Call the file earthquakes_\\<firstinitialLastname\\>.csv and upload it to your github repository. Read it your file, instead of mine as instructed below. If you are getting weird results compare to what I got, go back and check how the files differ."
      ]
    },
    {
      "cell_type": "markdown",
      "metadata": {
        "id": "eCiLW1AuhXr7"
      },
      "source": [
        "# Data Ingestion"
      ]
    },
    {
      "cell_type": "markdown",
      "metadata": {
        "id": "FH0X7d9_hXr8"
      },
      "source": [
        "## read in data"
      ]
    },
    {
      "cell_type": "markdown",
      "metadata": {
        "id": "XbMPVaK-hXr9"
      },
      "source": [
        "I saved the data in a file called \"earthquakes.csv\", where ```csv``` stands for \"comma separated file\". [This file format](https://www.howtogeek.com/348960/what-is-a-csv-file-and-how-do-i-open-it/) requires different entries in a row to be separated by commas alone (no space) and for commas to be used in quote if they are not intended to separate entries.\n",
        "\n",
        "```\n",
        "a,b,c\n",
        "d,e,f\n",
        "g,\"h,2\",i\n",
        "```\n",
        "The data is uploaded on the  github homework repository but to read it in you will need to get the link to the *raw file*: the link to the file earthquakes.csv which is in my GitHub repository https://github.com/fedhere/MLPNS2021/tree/main/HW2_NHRT takes you to an ```html``` page that includes the content of the file, but you want to isolate the content of the file itself: the _raw file_. Pay attention to this: from the next time I will not give you the exact link, I will just point you to the file and you will have to find the link to the raw data from there. (remember to use the \"raw\" link)\n",
        "\n",
        "The data can be read effectively using the _pandas_ python package as ```pandas.read_csv(<file name or URL>)```.\n",
        "\n",
        "However, I did not format the data correctly, according to the csv extension requirement. This happens all the time. Look at the file and use the pandas documentation to figure out how to read it with ```pd.read_csv()```"
      ]
    },
    {
      "cell_type": "code",
      "execution_count": null,
      "metadata": {
        "ExecuteTime": {
          "end_time": "2019-09-09T01:40:02.638703Z",
          "start_time": "2019-09-09T01:40:02.454643Z"
        },
        "id": "hOEZafxahXr9"
      },
      "outputs": [],
      "source": [
        "#your code here..."
      ]
    },
    {
      "cell_type": "markdown",
      "metadata": {
        "id": "r0IW9m4vhXr_"
      },
      "source": [
        "running the following lines of code should give you the same result as mine if you used the file I provided (467 students), and qualitatively  similar if you are using your own data (667 students)"
      ]
    },
    {
      "cell_type": "code",
      "execution_count": null,
      "metadata": {
        "ExecuteTime": {
          "end_time": "2019-09-09T01:40:02.643428Z",
          "start_time": "2019-09-09T01:40:02.640847Z"
        },
        "colab": {
          "base_uri": "https://localhost:8080/",
          "height": 34
        },
        "id": "uphAqv5ZhXsA",
        "outputId": "a9f6d035-4a52-49f3-cedb-635e2527c43c"
      },
      "outputs": [
        {
          "data": {
            "text/plain": [
              "(70798, 34)"
            ]
          },
          "execution_count": 4,
          "metadata": {
            "tags": []
          },
          "output_type": "execute_result"
        }
      ],
      "source": [
        "eqdata.shape"
      ]
    },
    {
      "cell_type": "code",
      "execution_count": null,
      "metadata": {
        "ExecuteTime": {
          "end_time": "2019-09-09T01:40:02.661139Z",
          "start_time": "2019-09-09T01:40:02.644720Z"
        },
        "colab": {
          "base_uri": "https://localhost:8080/",
          "height": 241
        },
        "id": "9CHqm426hXsC",
        "outputId": "fe2becaa-ef0a-49ee-8c8a-f1edadd424e7"
      },
      "outputs": [
        {
          "data": {
            "text/html": [
              "<div>\n",
              "<style scoped>\n",
              "    .dataframe tbody tr th:only-of-type {\n",
              "        vertical-align: middle;\n",
              "    }\n",
              "\n",
              "    .dataframe tbody tr th {\n",
              "        vertical-align: top;\n",
              "    }\n",
              "\n",
              "    .dataframe thead th {\n",
              "        text-align: right;\n",
              "    }\n",
              "</style>\n",
              "<table border=\"1\" class=\"dataframe\">\n",
              "  <thead>\n",
              "    <tr style=\"text-align: right;\">\n",
              "      <th></th>\n",
              "      <th>#YYY/MM/DD</th>\n",
              "      <th>HH:mm:SS.ss</th>\n",
              "      <th>ET</th>\n",
              "      <th>GT</th>\n",
              "      <th>MAG</th>\n",
              "      <th>Unnamed: 5</th>\n",
              "      <th>M</th>\n",
              "      <th>Unnamed: 7</th>\n",
              "      <th>Unnamed: 8</th>\n",
              "      <th>Unnamed: 9</th>\n",
              "      <th>LAT</th>\n",
              "      <th>Unnamed: 11</th>\n",
              "      <th>Unnamed: 12</th>\n",
              "      <th>Unnamed: 13</th>\n",
              "      <th>Unnamed: 14</th>\n",
              "      <th>Unnamed: 15</th>\n",
              "      <th>Unnamed: 16</th>\n",
              "      <th>LON</th>\n",
              "      <th>Unnamed: 18</th>\n",
              "      <th>Unnamed: 19</th>\n",
              "      <th>Unnamed: 20</th>\n",
              "      <th>Unnamed: 21</th>\n",
              "      <th>Unnamed: 22</th>\n",
              "      <th>DEPTH</th>\n",
              "      <th>Q</th>\n",
              "      <th>Unnamed: 25</th>\n",
              "      <th>EVID</th>\n",
              "      <th>Unnamed: 27</th>\n",
              "      <th>Unnamed: 28</th>\n",
              "      <th>Unnamed: 29</th>\n",
              "      <th>Unnamed: 30</th>\n",
              "      <th>Unnamed: 31</th>\n",
              "      <th>NPH</th>\n",
              "      <th>NGRM</th>\n",
              "    </tr>\n",
              "  </thead>\n",
              "  <tbody>\n",
              "    <tr>\n",
              "      <th>0</th>\n",
              "      <td>1984/01/01</td>\n",
              "      <td>01:30:57.52</td>\n",
              "      <td>eq</td>\n",
              "      <td>NaN</td>\n",
              "      <td>l</td>\n",
              "      <td>2.02</td>\n",
              "      <td>c</td>\n",
              "      <td>NaN</td>\n",
              "      <td>NaN</td>\n",
              "      <td>33.246</td>\n",
              "      <td>-116.433</td>\n",
              "      <td>NaN</td>\n",
              "      <td>NaN</td>\n",
              "      <td>1.6</td>\n",
              "      <td>C</td>\n",
              "      <td>NaN</td>\n",
              "      <td>NaN</td>\n",
              "      <td>NaN</td>\n",
              "      <td>28255.0</td>\n",
              "      <td>NaN</td>\n",
              "      <td>NaN</td>\n",
              "      <td>13.0</td>\n",
              "      <td>NaN</td>\n",
              "      <td>NaN</td>\n",
              "      <td>17.0</td>\n",
              "      <td>NaN</td>\n",
              "      <td>NaN</td>\n",
              "      <td>NaN</td>\n",
              "      <td>NaN</td>\n",
              "      <td>NaN</td>\n",
              "      <td>NaN</td>\n",
              "      <td>NaN</td>\n",
              "      <td>NaN</td>\n",
              "      <td>NaN</td>\n",
              "    </tr>\n",
              "    <tr>\n",
              "      <th>1</th>\n",
              "      <td>1984/01/01</td>\n",
              "      <td>05:31:34.16</td>\n",
              "      <td>eq</td>\n",
              "      <td>NaN</td>\n",
              "      <td>l</td>\n",
              "      <td>2.12</td>\n",
              "      <td>c</td>\n",
              "      <td>NaN</td>\n",
              "      <td>NaN</td>\n",
              "      <td>32.945</td>\n",
              "      <td>-116.295</td>\n",
              "      <td>NaN</td>\n",
              "      <td>NaN</td>\n",
              "      <td>5.4</td>\n",
              "      <td>C</td>\n",
              "      <td>NaN</td>\n",
              "      <td>NaN</td>\n",
              "      <td>NaN</td>\n",
              "      <td>28259.0</td>\n",
              "      <td>NaN</td>\n",
              "      <td>NaN</td>\n",
              "      <td>18.0</td>\n",
              "      <td>NaN</td>\n",
              "      <td>NaN</td>\n",
              "      <td>42.0</td>\n",
              "      <td>NaN</td>\n",
              "      <td>NaN</td>\n",
              "      <td>NaN</td>\n",
              "      <td>NaN</td>\n",
              "      <td>NaN</td>\n",
              "      <td>NaN</td>\n",
              "      <td>NaN</td>\n",
              "      <td>NaN</td>\n",
              "      <td>NaN</td>\n",
              "    </tr>\n",
              "    <tr>\n",
              "      <th>2</th>\n",
              "      <td>1984/01/01</td>\n",
              "      <td>06:59:05.14</td>\n",
              "      <td>eq</td>\n",
              "      <td>NaN</td>\n",
              "      <td>l</td>\n",
              "      <td>2.43</td>\n",
              "      <td>c</td>\n",
              "      <td>NaN</td>\n",
              "      <td>NaN</td>\n",
              "      <td>33.343</td>\n",
              "      <td>-117.628</td>\n",
              "      <td>NaN</td>\n",
              "      <td>NaN</td>\n",
              "      <td>5.6</td>\n",
              "      <td>C</td>\n",
              "      <td>NaN</td>\n",
              "      <td>NaN</td>\n",
              "      <td>NaN</td>\n",
              "      <td>28260.0</td>\n",
              "      <td>NaN</td>\n",
              "      <td>NaN</td>\n",
              "      <td>13.0</td>\n",
              "      <td>NaN</td>\n",
              "      <td>NaN</td>\n",
              "      <td>30.0</td>\n",
              "      <td>NaN</td>\n",
              "      <td>NaN</td>\n",
              "      <td>NaN</td>\n",
              "      <td>NaN</td>\n",
              "      <td>NaN</td>\n",
              "      <td>NaN</td>\n",
              "      <td>NaN</td>\n",
              "      <td>NaN</td>\n",
              "      <td>NaN</td>\n",
              "    </tr>\n",
              "    <tr>\n",
              "      <th>3</th>\n",
              "      <td>1984/01/01</td>\n",
              "      <td>11:10:25.29</td>\n",
              "      <td>eq</td>\n",
              "      <td>NaN</td>\n",
              "      <td>l</td>\n",
              "      <td>2.07</td>\n",
              "      <td>c</td>\n",
              "      <td>NaN</td>\n",
              "      <td>NaN</td>\n",
              "      <td>33.668</td>\n",
              "      <td>-116.780</td>\n",
              "      <td>NaN</td>\n",
              "      <td>13.8</td>\n",
              "      <td>C</td>\n",
              "      <td>NaN</td>\n",
              "      <td>NaN</td>\n",
              "      <td>NaN</td>\n",
              "      <td>28270.0</td>\n",
              "      <td>NaN</td>\n",
              "      <td>NaN</td>\n",
              "      <td>19.0</td>\n",
              "      <td>NaN</td>\n",
              "      <td>NaN</td>\n",
              "      <td>40.0</td>\n",
              "      <td>NaN</td>\n",
              "      <td>NaN</td>\n",
              "      <td>NaN</td>\n",
              "      <td>NaN</td>\n",
              "      <td>NaN</td>\n",
              "      <td>NaN</td>\n",
              "      <td>NaN</td>\n",
              "      <td>NaN</td>\n",
              "      <td>NaN</td>\n",
              "      <td>NaN</td>\n",
              "    </tr>\n",
              "    <tr>\n",
              "      <th>4</th>\n",
              "      <td>1984/01/01</td>\n",
              "      <td>19:38:19.79</td>\n",
              "      <td>eq</td>\n",
              "      <td>NaN</td>\n",
              "      <td>l</td>\n",
              "      <td>2.13</td>\n",
              "      <td>c</td>\n",
              "      <td>NaN</td>\n",
              "      <td>NaN</td>\n",
              "      <td>33.963</td>\n",
              "      <td>-116.290</td>\n",
              "      <td>NaN</td>\n",
              "      <td>NaN</td>\n",
              "      <td>2.7</td>\n",
              "      <td>C</td>\n",
              "      <td>NaN</td>\n",
              "      <td>NaN</td>\n",
              "      <td>NaN</td>\n",
              "      <td>28553.0</td>\n",
              "      <td>NaN</td>\n",
              "      <td>NaN</td>\n",
              "      <td>40.0</td>\n",
              "      <td>NaN</td>\n",
              "      <td>NaN</td>\n",
              "      <td>49.0</td>\n",
              "      <td>NaN</td>\n",
              "      <td>NaN</td>\n",
              "      <td>NaN</td>\n",
              "      <td>NaN</td>\n",
              "      <td>NaN</td>\n",
              "      <td>NaN</td>\n",
              "      <td>NaN</td>\n",
              "      <td>NaN</td>\n",
              "      <td>NaN</td>\n",
              "    </tr>\n",
              "  </tbody>\n",
              "</table>\n",
              "</div>"
            ],
            "text/plain": [
              "   #YYY/MM/DD  HH:mm:SS.ss  ET  GT  ... Unnamed: 30  Unnamed: 31 NPH  NGRM\n",
              "0  1984/01/01  01:30:57.52  eq NaN  ...         NaN          NaN NaN   NaN\n",
              "1  1984/01/01  05:31:34.16  eq NaN  ...         NaN          NaN NaN   NaN\n",
              "2  1984/01/01  06:59:05.14  eq NaN  ...         NaN          NaN NaN   NaN\n",
              "3  1984/01/01  11:10:25.29  eq NaN  ...         NaN          NaN NaN   NaN\n",
              "4  1984/01/01  19:38:19.79  eq NaN  ...         NaN          NaN NaN   NaN\n",
              "\n",
              "[5 rows x 34 columns]"
            ]
          },
          "execution_count": 5,
          "metadata": {
            "tags": []
          },
          "output_type": "execute_result"
        }
      ],
      "source": [
        "eqdata.head()"
      ]
    },
    {
      "cell_type": "code",
      "execution_count": null,
      "metadata": {
        "ExecuteTime": {
          "end_time": "2019-09-09T01:40:02.759957Z",
          "start_time": "2019-09-09T01:40:02.662327Z"
        },
        "colab": {
          "base_uri": "https://localhost:8080/",
          "height": 334
        },
        "id": "405C-Y8_hXsD",
        "outputId": "96cd6bf2-aec4-4c8f-94ad-d3e7d68dd409"
      },
      "outputs": [
        {
          "data": {
            "text/html": [
              "<div>\n",
              "<style scoped>\n",
              "    .dataframe tbody tr th:only-of-type {\n",
              "        vertical-align: middle;\n",
              "    }\n",
              "\n",
              "    .dataframe tbody tr th {\n",
              "        vertical-align: top;\n",
              "    }\n",
              "\n",
              "    .dataframe thead th {\n",
              "        text-align: right;\n",
              "    }\n",
              "</style>\n",
              "<table border=\"1\" class=\"dataframe\">\n",
              "  <thead>\n",
              "    <tr style=\"text-align: right;\">\n",
              "      <th></th>\n",
              "      <th>GT</th>\n",
              "      <th>Unnamed: 5</th>\n",
              "      <th>Unnamed: 7</th>\n",
              "      <th>Unnamed: 8</th>\n",
              "      <th>Unnamed: 9</th>\n",
              "      <th>LAT</th>\n",
              "      <th>Unnamed: 11</th>\n",
              "      <th>Unnamed: 12</th>\n",
              "      <th>Unnamed: 15</th>\n",
              "      <th>Unnamed: 16</th>\n",
              "      <th>LON</th>\n",
              "      <th>Unnamed: 18</th>\n",
              "      <th>Unnamed: 19</th>\n",
              "      <th>Unnamed: 20</th>\n",
              "      <th>Unnamed: 21</th>\n",
              "      <th>Unnamed: 22</th>\n",
              "      <th>DEPTH</th>\n",
              "      <th>Q</th>\n",
              "      <th>Unnamed: 25</th>\n",
              "      <th>EVID</th>\n",
              "      <th>Unnamed: 27</th>\n",
              "      <th>Unnamed: 28</th>\n",
              "      <th>Unnamed: 29</th>\n",
              "      <th>Unnamed: 30</th>\n",
              "      <th>Unnamed: 31</th>\n",
              "      <th>NPH</th>\n",
              "      <th>NGRM</th>\n",
              "    </tr>\n",
              "  </thead>\n",
              "  <tbody>\n",
              "    <tr>\n",
              "      <th>count</th>\n",
              "      <td>0.0</td>\n",
              "      <td>70798.000000</td>\n",
              "      <td>0.0</td>\n",
              "      <td>0.0</td>\n",
              "      <td>70798.000000</td>\n",
              "      <td>70798.00000</td>\n",
              "      <td>0.0</td>\n",
              "      <td>9648.000000</td>\n",
              "      <td>7.359000e+03</td>\n",
              "      <td>4.628900e+04</td>\n",
              "      <td>14096.000000</td>\n",
              "      <td>10889.000000</td>\n",
              "      <td>43932.000000</td>\n",
              "      <td>21302.000000</td>\n",
              "      <td>33735.000000</td>\n",
              "      <td>18080.000000</td>\n",
              "      <td>12705.000000</td>\n",
              "      <td>3387.000000</td>\n",
              "      <td>469.000000</td>\n",
              "      <td>2.000000</td>\n",
              "      <td>0.0</td>\n",
              "      <td>0.0</td>\n",
              "      <td>0.0</td>\n",
              "      <td>0.0</td>\n",
              "      <td>0.0</td>\n",
              "      <td>0.0</td>\n",
              "      <td>0.0</td>\n",
              "    </tr>\n",
              "    <tr>\n",
              "      <th>mean</th>\n",
              "      <td>NaN</td>\n",
              "      <td>2.417826</td>\n",
              "      <td>NaN</td>\n",
              "      <td>NaN</td>\n",
              "      <td>33.977749</td>\n",
              "      <td>-116.88145</td>\n",
              "      <td>NaN</td>\n",
              "      <td>13.354343</td>\n",
              "      <td>6.097558e+06</td>\n",
              "      <td>4.482677e+06</td>\n",
              "      <td>524649.772205</td>\n",
              "      <td>16307.082193</td>\n",
              "      <td>43.634321</td>\n",
              "      <td>141.903530</td>\n",
              "      <td>203.562443</td>\n",
              "      <td>78.426383</td>\n",
              "      <td>55.085714</td>\n",
              "      <td>43.415412</td>\n",
              "      <td>14.746269</td>\n",
              "      <td>7.000000</td>\n",
              "      <td>NaN</td>\n",
              "      <td>NaN</td>\n",
              "      <td>NaN</td>\n",
              "      <td>NaN</td>\n",
              "      <td>NaN</td>\n",
              "      <td>NaN</td>\n",
              "      <td>NaN</td>\n",
              "    </tr>\n",
              "    <tr>\n",
              "      <th>std</th>\n",
              "      <td>NaN</td>\n",
              "      <td>0.407683</td>\n",
              "      <td>NaN</td>\n",
              "      <td>NaN</td>\n",
              "      <td>1.156586</td>\n",
              "      <td>1.07667</td>\n",
              "      <td>NaN</td>\n",
              "      <td>2.724517</td>\n",
              "      <td>4.441852e+06</td>\n",
              "      <td>3.130379e+06</td>\n",
              "      <td>281055.136911</td>\n",
              "      <td>25237.230734</td>\n",
              "      <td>121.795817</td>\n",
              "      <td>311.415589</td>\n",
              "      <td>155.337382</td>\n",
              "      <td>56.105321</td>\n",
              "      <td>30.519535</td>\n",
              "      <td>24.266088</td>\n",
              "      <td>17.013243</td>\n",
              "      <td>2.828427</td>\n",
              "      <td>NaN</td>\n",
              "      <td>NaN</td>\n",
              "      <td>NaN</td>\n",
              "      <td>NaN</td>\n",
              "      <td>NaN</td>\n",
              "      <td>NaN</td>\n",
              "      <td>NaN</td>\n",
              "    </tr>\n",
              "    <tr>\n",
              "      <th>min</th>\n",
              "      <td>NaN</td>\n",
              "      <td>2.000000</td>\n",
              "      <td>NaN</td>\n",
              "      <td>NaN</td>\n",
              "      <td>30.094830</td>\n",
              "      <td>-121.76000</td>\n",
              "      <td>NaN</td>\n",
              "      <td>10.000000</td>\n",
              "      <td>1.000432e+06</td>\n",
              "      <td>1.070000e+02</td>\n",
              "      <td>10.000000</td>\n",
              "      <td>0.000000</td>\n",
              "      <td>0.000000</td>\n",
              "      <td>0.000000</td>\n",
              "      <td>0.000000</td>\n",
              "      <td>0.000000</td>\n",
              "      <td>0.000000</td>\n",
              "      <td>0.000000</td>\n",
              "      <td>0.000000</td>\n",
              "      <td>5.000000</td>\n",
              "      <td>NaN</td>\n",
              "      <td>NaN</td>\n",
              "      <td>NaN</td>\n",
              "      <td>NaN</td>\n",
              "      <td>NaN</td>\n",
              "      <td>NaN</td>\n",
              "      <td>NaN</td>\n",
              "    </tr>\n",
              "    <tr>\n",
              "      <th>25%</th>\n",
              "      <td>NaN</td>\n",
              "      <td>2.120000</td>\n",
              "      <td>NaN</td>\n",
              "      <td>NaN</td>\n",
              "      <td>33.061000</td>\n",
              "      <td>-117.69200</td>\n",
              "      <td>NaN</td>\n",
              "      <td>11.200000</td>\n",
              "      <td>3.041641e+06</td>\n",
              "      <td>3.031237e+06</td>\n",
              "      <td>136998.250000</td>\n",
              "      <td>27.000000</td>\n",
              "      <td>18.000000</td>\n",
              "      <td>14.000000</td>\n",
              "      <td>113.000000</td>\n",
              "      <td>48.000000</td>\n",
              "      <td>33.000000</td>\n",
              "      <td>24.000000</td>\n",
              "      <td>0.000000</td>\n",
              "      <td>6.000000</td>\n",
              "      <td>NaN</td>\n",
              "      <td>NaN</td>\n",
              "      <td>NaN</td>\n",
              "      <td>NaN</td>\n",
              "      <td>NaN</td>\n",
              "      <td>NaN</td>\n",
              "      <td>NaN</td>\n",
              "    </tr>\n",
              "    <tr>\n",
              "      <th>50%</th>\n",
              "      <td>NaN</td>\n",
              "      <td>2.300000</td>\n",
              "      <td>NaN</td>\n",
              "      <td>NaN</td>\n",
              "      <td>34.056750</td>\n",
              "      <td>-116.59000</td>\n",
              "      <td>NaN</td>\n",
              "      <td>12.800000</td>\n",
              "      <td>3.229114e+06</td>\n",
              "      <td>3.110080e+06</td>\n",
              "      <td>703081.500000</td>\n",
              "      <td>57.000000</td>\n",
              "      <td>28.000000</td>\n",
              "      <td>23.000000</td>\n",
              "      <td>168.000000</td>\n",
              "      <td>70.000000</td>\n",
              "      <td>50.000000</td>\n",
              "      <td>38.000000</td>\n",
              "      <td>13.000000</td>\n",
              "      <td>7.000000</td>\n",
              "      <td>NaN</td>\n",
              "      <td>NaN</td>\n",
              "      <td>NaN</td>\n",
              "      <td>NaN</td>\n",
              "      <td>NaN</td>\n",
              "      <td>NaN</td>\n",
              "      <td>NaN</td>\n",
              "    </tr>\n",
              "    <tr>\n",
              "      <th>75%</th>\n",
              "      <td>NaN</td>\n",
              "      <td>2.590000</td>\n",
              "      <td>NaN</td>\n",
              "      <td>NaN</td>\n",
              "      <td>34.591000</td>\n",
              "      <td>-116.25100</td>\n",
              "      <td>NaN</td>\n",
              "      <td>14.900000</td>\n",
              "      <td>9.669999e+06</td>\n",
              "      <td>9.027968e+06</td>\n",
              "      <td>725926.500000</td>\n",
              "      <td>37764.000000</td>\n",
              "      <td>42.000000</td>\n",
              "      <td>137.000000</td>\n",
              "      <td>294.000000</td>\n",
              "      <td>92.000000</td>\n",
              "      <td>71.000000</td>\n",
              "      <td>61.000000</td>\n",
              "      <td>24.000000</td>\n",
              "      <td>8.000000</td>\n",
              "      <td>NaN</td>\n",
              "      <td>NaN</td>\n",
              "      <td>NaN</td>\n",
              "      <td>NaN</td>\n",
              "      <td>NaN</td>\n",
              "      <td>NaN</td>\n",
              "      <td>NaN</td>\n",
              "    </tr>\n",
              "    <tr>\n",
              "      <th>max</th>\n",
              "      <td>NaN</td>\n",
              "      <td>7.100000</td>\n",
              "      <td>NaN</td>\n",
              "      <td>NaN</td>\n",
              "      <td>37.985500</td>\n",
              "      <td>-113.71900</td>\n",
              "      <td>NaN</td>\n",
              "      <td>29.300000</td>\n",
              "      <td>3.736673e+07</td>\n",
              "      <td>9.875061e+06</td>\n",
              "      <td>754723.000000</td>\n",
              "      <td>71774.000000</td>\n",
              "      <td>3384.000000</td>\n",
              "      <td>3815.000000</td>\n",
              "      <td>1574.000000</td>\n",
              "      <td>996.000000</td>\n",
              "      <td>227.000000</td>\n",
              "      <td>145.000000</td>\n",
              "      <td>88.000000</td>\n",
              "      <td>9.000000</td>\n",
              "      <td>NaN</td>\n",
              "      <td>NaN</td>\n",
              "      <td>NaN</td>\n",
              "      <td>NaN</td>\n",
              "      <td>NaN</td>\n",
              "      <td>NaN</td>\n",
              "      <td>NaN</td>\n",
              "    </tr>\n",
              "  </tbody>\n",
              "</table>\n",
              "</div>"
            ],
            "text/plain": [
              "        GT    Unnamed: 5  Unnamed: 7  ...  Unnamed: 31  NPH  NGRM\n",
              "count  0.0  70798.000000         0.0  ...          0.0  0.0   0.0\n",
              "mean   NaN      2.417826         NaN  ...          NaN  NaN   NaN\n",
              "std    NaN      0.407683         NaN  ...          NaN  NaN   NaN\n",
              "min    NaN      2.000000         NaN  ...          NaN  NaN   NaN\n",
              "25%    NaN      2.120000         NaN  ...          NaN  NaN   NaN\n",
              "50%    NaN      2.300000         NaN  ...          NaN  NaN   NaN\n",
              "75%    NaN      2.590000         NaN  ...          NaN  NaN   NaN\n",
              "max    NaN      7.100000         NaN  ...          NaN  NaN   NaN\n",
              "\n",
              "[8 rows x 27 columns]"
            ]
          },
          "execution_count": 6,
          "metadata": {
            "tags": []
          },
          "output_type": "execute_result"
        }
      ],
      "source": [
        "eqdata.describe()"
      ]
    },
    {
      "cell_type": "markdown",
      "metadata": {
        "ExecuteTime": {
          "end_time": "2019-09-08T21:24:56.161634Z",
          "start_time": "2019-09-08T21:24:56.157793Z"
        },
        "id": "08Ty-hUOhXsG"
      },
      "source": [
        "now that you have a dataframe object you can use methods of the object to modify it. Use the method ```eqdata.rename``` to change the names of the 3 columns that are the only three relevant to us: _date, time, magnitude_"
      ]
    },
    {
      "cell_type": "markdown",
      "metadata": {
        "id": "dYP53BzDhXsG"
      },
      "source": [
        "## prepare date-time column"
      ]
    },
    {
      "cell_type": "code",
      "execution_count": null,
      "metadata": {
        "ExecuteTime": {
          "end_time": "2019-09-09T01:40:02.791776Z",
          "start_time": "2019-09-09T01:40:02.761489Z"
        },
        "id": "WFIPxVG_hXsH"
      },
      "outputs": [],
      "source": [
        "# your code here..."
      ]
    },
    {
      "cell_type": "code",
      "execution_count": null,
      "metadata": {
        "ExecuteTime": {
          "end_time": "2019-09-09T01:40:02.800191Z",
          "start_time": "2019-09-09T01:40:02.793424Z"
        },
        "colab": {
          "base_uri": "https://localhost:8080/",
          "height": 204
        },
        "id": "vZ-NJ-C2hXsJ",
        "outputId": "76073453-18d5-40f0-b783-33c649777e9c"
      },
      "outputs": [
        {
          "data": {
            "text/html": [
              "<div>\n",
              "<style scoped>\n",
              "    .dataframe tbody tr th:only-of-type {\n",
              "        vertical-align: middle;\n",
              "    }\n",
              "\n",
              "    .dataframe tbody tr th {\n",
              "        vertical-align: top;\n",
              "    }\n",
              "\n",
              "    .dataframe thead th {\n",
              "        text-align: right;\n",
              "    }\n",
              "</style>\n",
              "<table border=\"1\" class=\"dataframe\">\n",
              "  <thead>\n",
              "    <tr style=\"text-align: right;\">\n",
              "      <th></th>\n",
              "      <th>date</th>\n",
              "      <th>time</th>\n",
              "      <th>mag</th>\n",
              "    </tr>\n",
              "  </thead>\n",
              "  <tbody>\n",
              "    <tr>\n",
              "      <th>0</th>\n",
              "      <td>1984/01/01</td>\n",
              "      <td>01:30:57.52</td>\n",
              "      <td>2.02</td>\n",
              "    </tr>\n",
              "    <tr>\n",
              "      <th>1</th>\n",
              "      <td>1984/01/01</td>\n",
              "      <td>05:31:34.16</td>\n",
              "      <td>2.12</td>\n",
              "    </tr>\n",
              "    <tr>\n",
              "      <th>2</th>\n",
              "      <td>1984/01/01</td>\n",
              "      <td>06:59:05.14</td>\n",
              "      <td>2.43</td>\n",
              "    </tr>\n",
              "    <tr>\n",
              "      <th>3</th>\n",
              "      <td>1984/01/01</td>\n",
              "      <td>11:10:25.29</td>\n",
              "      <td>2.07</td>\n",
              "    </tr>\n",
              "    <tr>\n",
              "      <th>4</th>\n",
              "      <td>1984/01/01</td>\n",
              "      <td>19:38:19.79</td>\n",
              "      <td>2.13</td>\n",
              "    </tr>\n",
              "  </tbody>\n",
              "</table>\n",
              "</div>"
            ],
            "text/plain": [
              "         date         time   mag\n",
              "0  1984/01/01  01:30:57.52  2.02\n",
              "1  1984/01/01  05:31:34.16  2.12\n",
              "2  1984/01/01  06:59:05.14  2.43\n",
              "3  1984/01/01  11:10:25.29  2.07\n",
              "4  1984/01/01  19:38:19.79  2.13"
            ]
          },
          "execution_count": 8,
          "metadata": {
            "tags": []
          },
          "output_type": "execute_result"
        }
      ],
      "source": [
        "eqdata.head()"
      ]
    },
    {
      "cell_type": "code",
      "execution_count": null,
      "metadata": {
        "ExecuteTime": {
          "end_time": "2019-09-09T01:40:02.813328Z",
          "start_time": "2019-09-09T01:40:02.801494Z"
        },
        "colab": {
          "base_uri": "https://localhost:8080/",
          "height": 297
        },
        "id": "BQHplE_shXsL",
        "outputId": "8fc02bda-b39c-4ac4-9fc2-60b5ab251de3"
      },
      "outputs": [
        {
          "data": {
            "text/html": [
              "<div>\n",
              "<style scoped>\n",
              "    .dataframe tbody tr th:only-of-type {\n",
              "        vertical-align: middle;\n",
              "    }\n",
              "\n",
              "    .dataframe tbody tr th {\n",
              "        vertical-align: top;\n",
              "    }\n",
              "\n",
              "    .dataframe thead th {\n",
              "        text-align: right;\n",
              "    }\n",
              "</style>\n",
              "<table border=\"1\" class=\"dataframe\">\n",
              "  <thead>\n",
              "    <tr style=\"text-align: right;\">\n",
              "      <th></th>\n",
              "      <th>mag</th>\n",
              "    </tr>\n",
              "  </thead>\n",
              "  <tbody>\n",
              "    <tr>\n",
              "      <th>count</th>\n",
              "      <td>70798.000000</td>\n",
              "    </tr>\n",
              "    <tr>\n",
              "      <th>mean</th>\n",
              "      <td>2.417826</td>\n",
              "    </tr>\n",
              "    <tr>\n",
              "      <th>std</th>\n",
              "      <td>0.407683</td>\n",
              "    </tr>\n",
              "    <tr>\n",
              "      <th>min</th>\n",
              "      <td>2.000000</td>\n",
              "    </tr>\n",
              "    <tr>\n",
              "      <th>25%</th>\n",
              "      <td>2.120000</td>\n",
              "    </tr>\n",
              "    <tr>\n",
              "      <th>50%</th>\n",
              "      <td>2.300000</td>\n",
              "    </tr>\n",
              "    <tr>\n",
              "      <th>75%</th>\n",
              "      <td>2.590000</td>\n",
              "    </tr>\n",
              "    <tr>\n",
              "      <th>max</th>\n",
              "      <td>7.100000</td>\n",
              "    </tr>\n",
              "  </tbody>\n",
              "</table>\n",
              "</div>"
            ],
            "text/plain": [
              "                mag\n",
              "count  70798.000000\n",
              "mean       2.417826\n",
              "std        0.407683\n",
              "min        2.000000\n",
              "25%        2.120000\n",
              "50%        2.300000\n",
              "75%        2.590000\n",
              "max        7.100000"
            ]
          },
          "execution_count": 9,
          "metadata": {
            "tags": []
          },
          "output_type": "execute_result"
        }
      ],
      "source": [
        "eqdata.describe()"
      ]
    },
    {
      "cell_type": "markdown",
      "metadata": {
        "id": "EMiRblXihXsN"
      },
      "source": [
        "Now you want to combine the columns containing date and time and convert them to a \"datetime\" kind of data object.\n"
      ]
    },
    {
      "cell_type": "markdown",
      "metadata": {
        "ExecuteTime": {
          "end_time": "2019-09-08T21:26:57.438903Z",
          "start_time": "2019-09-08T21:26:57.435133Z"
        },
        "id": "ZPOv1TJihXsN"
      },
      "source": [
        "What data type are the _time_ and _date_ columns right now? What type you want them to be to conver them to datetime with ```pd.datetime()```? type 'O' means object, typically a string."
      ]
    },
    {
      "cell_type": "code",
      "execution_count": null,
      "metadata": {
        "ExecuteTime": {
          "end_time": "2019-09-09T01:40:02.859962Z",
          "start_time": "2019-09-09T01:40:02.856654Z"
        },
        "colab": {
          "base_uri": "https://localhost:8080/",
          "height": 34
        },
        "id": "sqfVbxyYhXsO",
        "outputId": "971f8fa1-8a51-4d37-af8e-5667b45aafdc"
      },
      "outputs": [
        {
          "data": {
            "text/plain": [
              "(dtype('O'), dtype('O'))"
            ]
          },
          "execution_count": 10,
          "metadata": {
            "tags": []
          },
          "output_type": "execute_result"
        }
      ],
      "source": [
        "eqdata.time.dtype, eqdata.date.dtype"
      ]
    },
    {
      "cell_type": "markdown",
      "metadata": {
        "ExecuteTime": {
          "end_time": "2019-09-08T21:28:58.082172Z",
          "start_time": "2019-09-08T21:28:58.078926Z"
        },
        "id": "O9qP9mRShXsP"
      },
      "source": [
        "to do this conversion I\n",
        "\n",
        "   1. joined date and time into a single string for each row with a [\"list comprehension\"](https://www.pythonforbeginners.com/basics/list-comprehensions-in-python) (essentially a for loop but more efficient and compact). You do not have to do it with a list comprehension, you can use just a for loop.\n",
        "\n",
        "   2. used pd.datetime() to convert the resulting new dataframe column into a dataframe column containing _datetime_ objects (see lab)\n",
        "\n",
        "   3. but this did not work because of the formatting of some dates, so I had to go back and fix 5 entries. (you are on your own to figure out this one)"
      ]
    },
    {
      "cell_type": "code",
      "execution_count": null,
      "metadata": {
        "ExecuteTime": {
          "end_time": "2019-09-09T01:40:12.489690Z",
          "start_time": "2019-09-09T01:40:02.914845Z"
        },
        "id": "eOUTqBDOhXsQ"
      },
      "outputs": [],
      "source": [
        "# your code here"
      ]
    },
    {
      "cell_type": "code",
      "execution_count": null,
      "metadata": {
        "ExecuteTime": {
          "end_time": "2019-09-09T01:40:29.216627Z",
          "start_time": "2019-09-09T01:40:29.206374Z"
        },
        "colab": {
          "base_uri": "https://localhost:8080/",
          "height": 204
        },
        "id": "o9PeG5J5hXsU",
        "outputId": "55af01bf-fb31-4b2e-a242-e8d202480059"
      },
      "outputs": [
        {
          "data": {
            "text/html": [
              "<div>\n",
              "<style scoped>\n",
              "    .dataframe tbody tr th:only-of-type {\n",
              "        vertical-align: middle;\n",
              "    }\n",
              "\n",
              "    .dataframe tbody tr th {\n",
              "        vertical-align: top;\n",
              "    }\n",
              "\n",
              "    .dataframe thead th {\n",
              "        text-align: right;\n",
              "    }\n",
              "</style>\n",
              "<table border=\"1\" class=\"dataframe\">\n",
              "  <thead>\n",
              "    <tr style=\"text-align: right;\">\n",
              "      <th></th>\n",
              "      <th>date</th>\n",
              "      <th>time</th>\n",
              "      <th>mag</th>\n",
              "      <th>datetime</th>\n",
              "    </tr>\n",
              "  </thead>\n",
              "  <tbody>\n",
              "    <tr>\n",
              "      <th>0</th>\n",
              "      <td>1984/01/01</td>\n",
              "      <td>01:30:57.52</td>\n",
              "      <td>2.02</td>\n",
              "      <td>1984-01-01 01:30:57.520</td>\n",
              "    </tr>\n",
              "    <tr>\n",
              "      <th>1</th>\n",
              "      <td>1984/01/01</td>\n",
              "      <td>05:31:34.16</td>\n",
              "      <td>2.12</td>\n",
              "      <td>1984-01-01 05:31:34.160</td>\n",
              "    </tr>\n",
              "    <tr>\n",
              "      <th>2</th>\n",
              "      <td>1984/01/01</td>\n",
              "      <td>06:59:05.14</td>\n",
              "      <td>2.43</td>\n",
              "      <td>1984-01-01 06:59:05.140</td>\n",
              "    </tr>\n",
              "    <tr>\n",
              "      <th>3</th>\n",
              "      <td>1984/01/01</td>\n",
              "      <td>11:10:25.29</td>\n",
              "      <td>2.07</td>\n",
              "      <td>1984-01-01 11:10:25.290</td>\n",
              "    </tr>\n",
              "    <tr>\n",
              "      <th>4</th>\n",
              "      <td>1984/01/01</td>\n",
              "      <td>19:38:19.79</td>\n",
              "      <td>2.13</td>\n",
              "      <td>1984-01-01 19:38:19.790</td>\n",
              "    </tr>\n",
              "  </tbody>\n",
              "</table>\n",
              "</div>"
            ],
            "text/plain": [
              "         date         time   mag                datetime\n",
              "0  1984/01/01  01:30:57.52  2.02 1984-01-01 01:30:57.520\n",
              "1  1984/01/01  05:31:34.16  2.12 1984-01-01 05:31:34.160\n",
              "2  1984/01/01  06:59:05.14  2.43 1984-01-01 06:59:05.140\n",
              "3  1984/01/01  11:10:25.29  2.07 1984-01-01 11:10:25.290\n",
              "4  1984/01/01  19:38:19.79  2.13 1984-01-01 19:38:19.790"
            ]
          },
          "execution_count": 13,
          "metadata": {
            "tags": []
          },
          "output_type": "execute_result"
        }
      ],
      "source": [
        "eqdata.head()"
      ]
    },
    {
      "cell_type": "markdown",
      "metadata": {
        "id": "zAmaMzQIhXsW"
      },
      "source": [
        "## select valuable data"
      ]
    },
    {
      "cell_type": "markdown",
      "metadata": {
        "id": "R3kga7VvhXsZ"
      },
      "source": [
        "Following the description in Section 2  of Corral 2018 I removed all data that did not belong to a \"stationary\" period. Third paragraph section 2 of Corral 2018. You can see the cell of code I used to do this [here](https://github.com/fedhere/DSPS/blob/master/HW3/Corral2018_selectStationary.py) at no points cost, cause it was a bit tricky, but I encourage you to try and do it yourself. If you can do it in fewer lines than I did its automatically +5 points (just turning the loop into a list comprehension does not count. That is an obvious way to decrease the number of lines of code; I did not do it simply to enhance readability.)"
      ]
    },
    {
      "cell_type": "code",
      "execution_count": null,
      "metadata": {
        "ExecuteTime": {
          "end_time": "2019-09-09T01:40:29.230993Z",
          "start_time": "2019-09-09T01:40:29.219163Z"
        },
        "id": "tQRj4CAEhXsZ"
      },
      "outputs": [],
      "source": [
        "# your code here"
      ]
    },
    {
      "cell_type": "code",
      "execution_count": null,
      "metadata": {
        "ExecuteTime": {
          "end_time": "2019-09-09T01:40:29.237879Z",
          "start_time": "2019-09-09T01:40:29.232647Z"
        },
        "colab": {
          "base_uri": "https://localhost:8080/",
          "height": 34
        },
        "id": "qPmYVGWbhXsb",
        "outputId": "e3b55bf8-1a49-4377-e17b-2e5f4623c502"
      },
      "outputs": [
        {
          "name": "stdout",
          "output_type": "stream",
          "text": [
            "the 11 timestamp pairs that are the boundaries of good data periods are:\n"
          ]
        }
      ],
      "source": [
        "print (\"the {} timestamp pairs that are the boundaries of good data periods are:\".format(len(ss)))\n"
      ]
    },
    {
      "cell_type": "markdown",
      "metadata": {
        "id": "-470BeBahXsd"
      },
      "source": [
        "The following cell of code shows you the array of bool values (True/False) which I create to use as an index to the input array: when used as an index, a technique called \"broadcasting\" in python, will select only elements of the original array where the index array value is True. something like\n",
        "Try:\n",
        "\n"
      ]
    },
    {
      "cell_type": "code",
      "execution_count": null,
      "metadata": {
        "ExecuteTime": {
          "end_time": "2019-09-09T01:40:29.244355Z",
          "start_time": "2019-09-09T01:40:29.239933Z"
        },
        "colab": {
          "base_uri": "https://localhost:8080/",
          "height": 34
        },
        "id": "9wCXH-gfhXsf",
        "outputId": "73c08853-9a62-4a99-9cde-ba7e294f8956"
      },
      "outputs": [
        {
          "data": {
            "text/plain": [
              "(array([0, 1, 2]), array([0, 2]))"
            ]
          },
          "execution_count": 95,
          "metadata": {
            "tags": []
          },
          "output_type": "execute_result"
        }
      ],
      "source": [
        "a = np.array([0, 1, 2])\n",
        "a, a[[True, False, True]]"
      ]
    },
    {
      "cell_type": "markdown",
      "metadata": {
        "ExecuteTime": {
          "end_time": "2019-09-09T01:05:50.836953Z",
          "start_time": "2019-09-09T01:05:50.833542Z"
        },
        "id": "jvZBr-_JhXsi"
      },
      "source": [
        "For each of the 11 valid periods I create a condition\n",
        "``` datetime >= period_start AND datetime <= period_end ``` where AND is a product of booleans: True * False = False.\n",
        "\n",
        "I want to take all chinks of data that satisfy this condition for any of the 11 chunks of time so that is a logical OR operator, or a sum of Booleans: True + False = True\n",
        "\n",
        "This is because ```True``` really corresponds to \"not 0\" and False to \"0\". So ```\"not 0\" * 0 = 0``` and ```\"not 0\" + 0 = not 0```\n",
        "    "
      ]
    },
    {
      "cell_type": "code",
      "execution_count": null,
      "metadata": {
        "ExecuteTime": {
          "end_time": "2019-09-09T01:40:29.265629Z",
          "start_time": "2019-09-09T01:40:29.245537Z"
        },
        "id": "JGuY1EtzhXsj"
      },
      "outputs": [],
      "source": [
        "# your code here"
      ]
    },
    {
      "cell_type": "code",
      "execution_count": null,
      "metadata": {
        "ExecuteTime": {
          "end_time": "2019-09-09T01:40:29.270985Z",
          "start_time": "2019-09-09T01:40:29.267738Z"
        },
        "colab": {
          "base_uri": "https://localhost:8080/",
          "height": 34
        },
        "id": "WHyQm6CqhXsl",
        "outputId": "226d868c-0564-40b6-b541-99173763d8b0"
      },
      "outputs": [
        {
          "name": "stdout",
          "output_type": "stream",
          "text": [
            "there are 19911 earthquakes falling in the selected stationary periods\n"
          ]
        }
      ],
      "source": [
        "print (\"there are {} earthquakes falling in the selected stationary periods\".\n",
        "       format(gooddates.sum()))"
      ]
    },
    {
      "cell_type": "code",
      "execution_count": null,
      "metadata": {
        "id": "DZqekuQFn_cM"
      },
      "outputs": [],
      "source": [
        "# your code here: broadcasting to create a dataframe with the good dates only\n"
      ]
    },
    {
      "cell_type": "code",
      "execution_count": null,
      "metadata": {
        "ExecuteTime": {
          "end_time": "2019-09-09T01:40:29.277256Z",
          "start_time": "2019-09-09T01:40:29.272901Z"
        },
        "colab": {
          "base_uri": "https://localhost:8080/",
          "height": 34
        },
        "id": "K7iYLowuhXsm",
        "outputId": "374cde17-2591-4155-f6a6-595f125f1ab7"
      },
      "outputs": [
        {
          "data": {
            "text/plain": [
              "(19911, 4)"
            ]
          },
          "execution_count": 98,
          "metadata": {
            "tags": []
          },
          "output_type": "execute_result"
        }
      ],
      "source": [
        "eqGoodData.shape"
      ]
    },
    {
      "cell_type": "code",
      "execution_count": null,
      "metadata": {
        "ExecuteTime": {
          "end_time": "2019-09-09T01:40:29.287000Z",
          "start_time": "2019-09-09T01:40:29.279430Z"
        },
        "colab": {
          "base_uri": "https://localhost:8080/",
          "height": 204
        },
        "id": "aMySvYb5hXso",
        "outputId": "61c4cd9a-7021-4d86-a888-2ec617b48204"
      },
      "outputs": [
        {
          "data": {
            "text/html": [
              "<div>\n",
              "<style scoped>\n",
              "    .dataframe tbody tr th:only-of-type {\n",
              "        vertical-align: middle;\n",
              "    }\n",
              "\n",
              "    .dataframe tbody tr th {\n",
              "        vertical-align: top;\n",
              "    }\n",
              "\n",
              "    .dataframe thead th {\n",
              "        text-align: right;\n",
              "    }\n",
              "</style>\n",
              "<table border=\"1\" class=\"dataframe\">\n",
              "  <thead>\n",
              "    <tr style=\"text-align: right;\">\n",
              "      <th></th>\n",
              "      <th>date</th>\n",
              "      <th>time</th>\n",
              "      <th>mag</th>\n",
              "      <th>datetime</th>\n",
              "    </tr>\n",
              "  </thead>\n",
              "  <tbody>\n",
              "    <tr>\n",
              "      <th>0</th>\n",
              "      <td>1984/01/01</td>\n",
              "      <td>01:30:57.52</td>\n",
              "      <td>2.02</td>\n",
              "      <td>1984-01-01 01:30:57.520</td>\n",
              "    </tr>\n",
              "    <tr>\n",
              "      <th>1</th>\n",
              "      <td>1984/01/01</td>\n",
              "      <td>05:31:34.16</td>\n",
              "      <td>2.12</td>\n",
              "      <td>1984-01-01 05:31:34.160</td>\n",
              "    </tr>\n",
              "    <tr>\n",
              "      <th>2</th>\n",
              "      <td>1984/01/01</td>\n",
              "      <td>06:59:05.14</td>\n",
              "      <td>2.43</td>\n",
              "      <td>1984-01-01 06:59:05.140</td>\n",
              "    </tr>\n",
              "    <tr>\n",
              "      <th>3</th>\n",
              "      <td>1984/01/01</td>\n",
              "      <td>11:10:25.29</td>\n",
              "      <td>2.07</td>\n",
              "      <td>1984-01-01 11:10:25.290</td>\n",
              "    </tr>\n",
              "    <tr>\n",
              "      <th>4</th>\n",
              "      <td>1984/01/01</td>\n",
              "      <td>19:38:19.79</td>\n",
              "      <td>2.13</td>\n",
              "      <td>1984-01-01 19:38:19.790</td>\n",
              "    </tr>\n",
              "  </tbody>\n",
              "</table>\n",
              "</div>"
            ],
            "text/plain": [
              "         date         time   mag                datetime\n",
              "0  1984/01/01  01:30:57.52  2.02 1984-01-01 01:30:57.520\n",
              "1  1984/01/01  05:31:34.16  2.12 1984-01-01 05:31:34.160\n",
              "2  1984/01/01  06:59:05.14  2.43 1984-01-01 06:59:05.140\n",
              "3  1984/01/01  11:10:25.29  2.07 1984-01-01 11:10:25.290\n",
              "4  1984/01/01  19:38:19.79  2.13 1984-01-01 19:38:19.790"
            ]
          },
          "execution_count": 99,
          "metadata": {
            "tags": []
          },
          "output_type": "execute_result"
        }
      ],
      "source": [
        "eqGoodData.head()"
      ]
    },
    {
      "cell_type": "markdown",
      "metadata": {
        "ExecuteTime": {
          "end_time": "2019-09-09T01:17:07.527314Z",
          "start_time": "2019-09-09T01:17:07.523165Z"
        },
        "id": "P3MKC5tyhXsp"
      },
      "source": [
        "Now what you really want is the _time interval between earthquakes_ for all events greater than some magnitude m, while all you have are the date and time of the events.:\n",
        "\n",
        "You can remove earthquakes smaller than magnitude 2 by, again, broadcasting. How would that look like?"
      ]
    },
    {
      "cell_type": "code",
      "execution_count": null,
      "metadata": {
        "ExecuteTime": {
          "end_time": "2019-09-09T01:40:29.292220Z",
          "start_time": "2019-09-09T01:40:29.288359Z"
        },
        "id": "GF-7Xw9AhXsq"
      },
      "outputs": [],
      "source": [
        "# your code here"
      ]
    },
    {
      "cell_type": "code",
      "execution_count": null,
      "metadata": {
        "ExecuteTime": {
          "end_time": "2019-09-09T01:40:29.296885Z",
          "start_time": "2019-09-09T01:40:29.293316Z"
        },
        "colab": {
          "base_uri": "https://localhost:8080/",
          "height": 34
        },
        "id": "nTmssr_xhXst",
        "outputId": "c38b9214-bfc9-47f1-f541-e34818776cb0"
      },
      "outputs": [
        {
          "data": {
            "text/plain": [
              "(19911, 4)"
            ]
          },
          "execution_count": 101,
          "metadata": {
            "tags": []
          },
          "output_type": "execute_result"
        }
      ],
      "source": [
        "eqGoodData.shape #look like for my data it was not needed! that is because I chose M>2 when when I downloaded the data"
      ]
    },
    {
      "cell_type": "markdown",
      "metadata": {
        "id": "Ah6LgDvVhXsu"
      },
      "source": [
        "You can get the time between consecutive earthquakes with the method ```diff()``` of numpy arrays (in a pandas series you can get the data as a numpy array with the attribute .values: ```seried.values```).\n"
      ]
    },
    {
      "cell_type": "code",
      "execution_count": null,
      "metadata": {
        "ExecuteTime": {
          "end_time": "2019-09-09T01:40:29.303435Z",
          "start_time": "2019-09-09T01:40:29.298440Z"
        },
        "id": "RCJozUPPhXsu"
      },
      "outputs": [],
      "source": [
        "#your code here"
      ]
    },
    {
      "cell_type": "code",
      "execution_count": null,
      "metadata": {
        "colab": {
          "base_uri": "https://localhost:8080/",
          "height": 34
        },
        "id": "a6f-j9ThoMUC",
        "outputId": "b04dac70-a267-46ab-b328-08a59c9cae07"
      },
      "outputs": [
        {
          "data": {
            "text/plain": [
              "(18841, 5)"
            ]
          },
          "execution_count": 132,
          "metadata": {
            "tags": []
          },
          "output_type": "execute_result"
        }
      ],
      "source": [
        "eqGoodData.shape"
      ]
    },
    {
      "cell_type": "code",
      "execution_count": null,
      "metadata": {
        "colab": {
          "base_uri": "https://localhost:8080/",
          "height": 204
        },
        "id": "BavypriTXcUV",
        "outputId": "99c6c38f-2743-4d83-fa80-1f38431f09c0"
      },
      "outputs": [
        {
          "data": {
            "text/html": [
              "<div>\n",
              "<style scoped>\n",
              "    .dataframe tbody tr th:only-of-type {\n",
              "        vertical-align: middle;\n",
              "    }\n",
              "\n",
              "    .dataframe tbody tr th {\n",
              "        vertical-align: top;\n",
              "    }\n",
              "\n",
              "    .dataframe thead th {\n",
              "        text-align: right;\n",
              "    }\n",
              "</style>\n",
              "<table border=\"1\" class=\"dataframe\">\n",
              "  <thead>\n",
              "    <tr style=\"text-align: right;\">\n",
              "      <th></th>\n",
              "      <th>date</th>\n",
              "      <th>time</th>\n",
              "      <th>mag</th>\n",
              "      <th>datetime</th>\n",
              "      <th>gaps</th>\n",
              "    </tr>\n",
              "  </thead>\n",
              "  <tbody>\n",
              "    <tr>\n",
              "      <th>0</th>\n",
              "      <td>1984/01/01</td>\n",
              "      <td>01:30:57.52</td>\n",
              "      <td>2.02</td>\n",
              "      <td>1984-01-01 01:30:57.520</td>\n",
              "      <td>-9.223372e+18</td>\n",
              "    </tr>\n",
              "    <tr>\n",
              "      <th>1</th>\n",
              "      <td>1984/01/01</td>\n",
              "      <td>05:31:34.16</td>\n",
              "      <td>2.12</td>\n",
              "      <td>1984-01-01 05:31:34.160</td>\n",
              "      <td>1.443664e+13</td>\n",
              "    </tr>\n",
              "    <tr>\n",
              "      <th>2</th>\n",
              "      <td>1984/01/01</td>\n",
              "      <td>06:59:05.14</td>\n",
              "      <td>2.43</td>\n",
              "      <td>1984-01-01 06:59:05.140</td>\n",
              "      <td>5.250980e+12</td>\n",
              "    </tr>\n",
              "    <tr>\n",
              "      <th>3</th>\n",
              "      <td>1984/01/01</td>\n",
              "      <td>11:10:25.29</td>\n",
              "      <td>2.07</td>\n",
              "      <td>1984-01-01 11:10:25.290</td>\n",
              "      <td>1.508015e+13</td>\n",
              "    </tr>\n",
              "    <tr>\n",
              "      <th>4</th>\n",
              "      <td>1984/01/01</td>\n",
              "      <td>19:38:19.79</td>\n",
              "      <td>2.13</td>\n",
              "      <td>1984-01-01 19:38:19.790</td>\n",
              "      <td>3.047450e+13</td>\n",
              "    </tr>\n",
              "  </tbody>\n",
              "</table>\n",
              "</div>"
            ],
            "text/plain": [
              "         date         time   mag                datetime          gaps\n",
              "0  1984/01/01  01:30:57.52  2.02 1984-01-01 01:30:57.520 -9.223372e+18\n",
              "1  1984/01/01  05:31:34.16  2.12 1984-01-01 05:31:34.160  1.443664e+13\n",
              "2  1984/01/01  06:59:05.14  2.43 1984-01-01 06:59:05.140  5.250980e+12\n",
              "3  1984/01/01  11:10:25.29  2.07 1984-01-01 11:10:25.290  1.508015e+13\n",
              "4  1984/01/01  19:38:19.79  2.13 1984-01-01 19:38:19.790  3.047450e+13"
            ]
          },
          "execution_count": 104,
          "metadata": {
            "tags": []
          },
          "output_type": "execute_result"
        }
      ],
      "source": [
        "eqGoodData.head()"
      ]
    },
    {
      "cell_type": "code",
      "execution_count": null,
      "metadata": {
        "colab": {
          "base_uri": "https://localhost:8080/",
          "height": 297
        },
        "id": "pC2aJCuVXfM3",
        "outputId": "50afc47c-822b-48ca-9d86-d81cb38befb7"
      },
      "outputs": [
        {
          "data": {
            "text/html": [
              "<div>\n",
              "<style scoped>\n",
              "    .dataframe tbody tr th:only-of-type {\n",
              "        vertical-align: middle;\n",
              "    }\n",
              "\n",
              "    .dataframe tbody tr th {\n",
              "        vertical-align: top;\n",
              "    }\n",
              "\n",
              "    .dataframe thead th {\n",
              "        text-align: right;\n",
              "    }\n",
              "</style>\n",
              "<table border=\"1\" class=\"dataframe\">\n",
              "  <thead>\n",
              "    <tr style=\"text-align: right;\">\n",
              "      <th></th>\n",
              "      <th>mag</th>\n",
              "      <th>gaps</th>\n",
              "    </tr>\n",
              "  </thead>\n",
              "  <tbody>\n",
              "    <tr>\n",
              "      <th>count</th>\n",
              "      <td>19911.000000</td>\n",
              "      <td>1.991100e+04</td>\n",
              "    </tr>\n",
              "    <tr>\n",
              "      <th>mean</th>\n",
              "      <td>2.399488</td>\n",
              "      <td>-4.574501e+14</td>\n",
              "    </tr>\n",
              "    <tr>\n",
              "      <th>std</th>\n",
              "      <td>0.392436</td>\n",
              "      <td>6.718482e+16</td>\n",
              "    </tr>\n",
              "    <tr>\n",
              "      <th>min</th>\n",
              "      <td>2.000000</td>\n",
              "      <td>-9.223372e+18</td>\n",
              "    </tr>\n",
              "    <tr>\n",
              "      <th>25%</th>\n",
              "      <td>2.110000</td>\n",
              "      <td>2.736622e+12</td>\n",
              "    </tr>\n",
              "    <tr>\n",
              "      <th>50%</th>\n",
              "      <td>2.290000</td>\n",
              "      <td>8.946950e+12</td>\n",
              "    </tr>\n",
              "    <tr>\n",
              "      <th>75%</th>\n",
              "      <td>2.570000</td>\n",
              "      <td>2.133966e+13</td>\n",
              "    </tr>\n",
              "    <tr>\n",
              "      <th>max</th>\n",
              "      <td>5.800000</td>\n",
              "      <td>1.199632e+17</td>\n",
              "    </tr>\n",
              "  </tbody>\n",
              "</table>\n",
              "</div>"
            ],
            "text/plain": [
              "                mag          gaps\n",
              "count  19911.000000  1.991100+04\n",
              "mean       2.399488 -4.574501e+14\n",
              "std        0.392436  6.718482e+16\n",
              "min        2.000000 -9.223372e+18\n",
              "25%        2.110000  2.736622e+12\n",
              "50%        2.290000  8.946950e+12\n",
              "75%        2.570000  2.133966e+13\n",
              "max        5.800000  1.199632e+17"
            ]
          },
          "execution_count": 55,
          "metadata": {
            "tags": []
          },
          "output_type": "execute_result"
        }
      ],
      "source": [
        "eqGoodData.describe()"
      ]
    },
    {
      "cell_type": "markdown",
      "metadata": {
        "id": "wWmOXVyKhO9W"
      },
      "source": [
        "Note that the first entry will be NaT which is Not a Time (corresponding to nan for numerical variables) or maybe a negative number (depends on your exact operations above). You should remove it"
      ]
    },
    {
      "cell_type": "code",
      "execution_count": null,
      "metadata": {
        "id": "zqOLrvyc0_dL"
      },
      "outputs": [],
      "source": [
        "# your code here"
      ]
    },
    {
      "cell_type": "code",
      "execution_count": null,
      "metadata": {
        "colab": {
          "base_uri": "https://localhost:8080/",
          "height": 204
        },
        "id": "kDvKNHD7X1M8",
        "outputId": "e63774d0-9129-4a8c-9a55-918f0deae3c2"
      },
      "outputs": [
        {
          "data": {
            "text/html": [
              "<div>\n",
              "<style scoped>\n",
              "    .dataframe tbody tr th:only-of-type {\n",
              "        vertical-align: middle;\n",
              "    }\n",
              "\n",
              "    .dataframe tbody tr th {\n",
              "        vertical-align: top;\n",
              "    }\n",
              "\n",
              "    .dataframe thead th {\n",
              "        text-align: right;\n",
              "    }\n",
              "</style>\n",
              "<table border=\"1\" class=\"dataframe\">\n",
              "  <thead>\n",
              "    <tr style=\"text-align: right;\">\n",
              "      <th></th>\n",
              "      <th>date</th>\n",
              "      <th>time</th>\n",
              "      <th>mag</th>\n",
              "      <th>datetime</th>\n",
              "      <th>gaps</th>\n",
              "    </tr>\n",
              "  </thead>\n",
              "  <tbody>\n",
              "    <tr>\n",
              "      <th>1</th>\n",
              "      <td>1984/01/01</td>\n",
              "      <td>05:31:34.16</td>\n",
              "      <td>2.12</td>\n",
              "      <td>1984-01-01 05:31:34.160</td>\n",
              "      <td>1.443664e+13</td>\n",
              "    </tr>\n",
              "    <tr>\n",
              "      <th>2</th>\n",
              "      <td>1984/01/01</td>\n",
              "      <td>06:59:05.14</td>\n",
              "      <td>2.43</td>\n",
              "      <td>1984-01-01 06:59:05.140</td>\n",
              "      <td>5.250980e+12</td>\n",
              "    </tr>\n",
              "    <tr>\n",
              "      <th>3</th>\n",
              "      <td>1984/01/01</td>\n",
              "      <td>11:10:25.29</td>\n",
              "      <td>2.07</td>\n",
              "      <td>1984-01-01 11:10:25.290</td>\n",
              "      <td>1.508015e+13</td>\n",
              "    </tr>\n",
              "    <tr>\n",
              "      <th>4</th>\n",
              "      <td>1984/01/01</td>\n",
              "      <td>19:38:19.79</td>\n",
              "      <td>2.13</td>\n",
              "      <td>1984-01-01 19:38:19.790</td>\n",
              "      <td>3.047450e+13</td>\n",
              "    </tr>\n",
              "    <tr>\n",
              "      <th>5</th>\n",
              "      <td>1984/01/01</td>\n",
              "      <td>19:39:19.67</td>\n",
              "      <td>2.13</td>\n",
              "      <td>1984-01-01 19:39:19.670</td>\n",
              "      <td>5.988000e+10</td>\n",
              "    </tr>\n",
              "  </tbody>\n",
              "</table>\n",
              "</div>"
            ],
            "text/plain": [
              "         date         time   mag                datetime          gaps\n",
              "1  1984/01/01  05:31:34.16  2.12 1984-01-01 05:31:34.160  1.443664e+13\n",
              "2  1984/01/01  06:59:05.14  2.43 1984-01-01 06:59:05.140  5.250980e+12\n",
              "3  1984/01/01  11:10:25.29  2.07 1984-01-01 11:10:25.290  1.508015e+13\n",
              "4  1984/01/01  19:38:19.79  2.13 1984-01-01 19:38:19.790  3.047450e+13\n",
              "5  1984/01/01  19:39:19.67  2.13 1984-01-01 19:39:19.670  5.988000e+10"
            ]
          },
          "execution_count": 106,
          "metadata": {
            "tags": []
          },
          "output_type": "execute_result"
        }
      ],
      "source": [
        "eqGoodData.head()"
      ]
    },
    {
      "cell_type": "markdown",
      "metadata": {
        "id": "M2VH6Q4xhXsw"
      },
      "source": [
        "# data exploration\n",
        "At this point you should wonder if this is the final dataset that you want to use and if anything is weird or suspicious about it. Visualize the distribution. A good way to visualize distributions is a histogram which you can prodice with pl.hist() or as a method of your dataframe series as ```df[SeriesName].plot(kind=\"hist\")```. Produce a plot like the one below (label the axis! and describe it with a caption!). To get the logarithmic y axis you can se ```logy=True```, for example. in your ```df[SeriesName].plot``` call."
      ]
    },
    {
      "cell_type": "code",
      "execution_count": null,
      "metadata": {
        "colab": {
          "base_uri": "https://localhost:8080/",
          "height": 285
        },
        "id": "iDiscxU4XDwg",
        "outputId": "fa5c9392-a6ab-4efe-db17-6ca7b20d35a6"
      },
      "outputs": [
        {
          "data": {
            "image/png": "[encoded data removed]",
            "text/plain": [
              "<Figure size 432x288 with 1 Axes>"
            ]
          },
          "metadata": {
            "tags": []
          },
          "output_type": "display_data"
        }
      ],
      "source": []
    },
    {
      "cell_type": "markdown",
      "metadata": {
        "id": "nuPhJkrozh91"
      },
      "source": [
        "The thing that worries me is that by removing some sections of the data to use only stationary periods we created some artificially large gaps: gaps of order ~month. How many nanoseconds in a month? remove all gaps that are larger than about a month and see how the distribution looks (make another histogram)."
      ]
    },
    {
      "cell_type": "code",
      "execution_count": null,
      "metadata": {
        "id": "0zuGOkWhzhDu"
      },
      "outputs": [],
      "source": [
        "# your code here"
      ]
    },
    {
      "cell_type": "markdown",
      "metadata": {
        "id": "gn-HuVevYOo7"
      },
      "source": [
        "# data analysis"
      ]
    },
    {
      "cell_type": "markdown",
      "metadata": {
        "id": "Q2xYwKRB2sx9"
      },
      "source": [
        "### important: the paper does not do it but I want you to formally choose a threshold before you do this test. Choose a p-value (=$\\alpha$ thresold: call your variable ```alpha```) of 3-$\\sigma$."
      ]
    },
    {
      "cell_type": "markdown",
      "metadata": {
        "id": "pt5MAQEZhXsz"
      },
      "source": [
        "Follow the instructions (algorithm) in **Section 3 paragraph 3** and compare your results with the results in table 1 with a threshold  of = 0.01 and 0.001\n",
        "\n",
        "Do it for all 5 magnitude thresholds as indicated in the paper (and in Table 1).\n",
        "\n",
        "Note that the x axis in plot Fig 1 is in _log space_. Use ```np.log10()``` to take the logarithm of the time gaps.\n",
        "\n",
        "The pseudocode for the algorithm is [here](https://github.com/fedhere/DSPS/blob/master/HW3/Corral2018_pseudocode.md).\n"
      ]
    },
    {
      "cell_type": "markdown",
      "metadata": {
        "id": "gXWK4x4FhXs1"
      },
      "source": [
        "Reproduce the paper Fig 1 and Table 1. In the Table report the size of each dataset after cleaning the value of the statistic and the p-value, as done in Corral 2018. Use the scipy function for the 2 sample KS test. (resources [here](https://colab.research.google.com/notebooks/markdown_guide.ipynb#scrollTo=70pYkR9LiOV0) to learn about the table syntax in markdown)"
      ]
    },
    {
      "cell_type": "code",
      "execution_count": null,
      "metadata": {
        "ExecuteTime": {
          "end_time": "2019-09-09T01:51:40.043756Z",
          "start_time": "2019-09-09T01:51:39.866325Z"
        },
        "colab": {
          "base_uri": "https://localhost:8080/",
          "height": 286
        },
        "id": "BNtqqaXphXs2",
        "outputId": "d7a838f4-9f01-4ebf-ff39-a480a3146e07"
      },
      "outputs": [
        {
          "data": {
            "image/png": "[encoded data removed]",
            "text/plain": [
              "<Figure size 432x288 with 1 Axes>"
            ]
          },
          "metadata": {
            "tags": []
          },
          "output_type": "display_data"
        }
      ],
      "source": [
        "# your code here"
      ]
    },
    {
      "cell_type": "markdown",
      "metadata": {
        "id": "O0A6oyp9jSos"
      },
      "source": [
        "your table here"
      ]
    },
    {
      "cell_type": "markdown",
      "metadata": {
        "id": "6y4wb6lEZsGV"
      },
      "source": [
        "Did you find any statistical significant differences between the distributions? What does it mean? Is your result identical to Correll's 2018? Why or why not? **Discuss!**"
      ]
    },
    {
      "cell_type": "markdown",
      "metadata": {
        "id": "8bQwtZi4Z0pi"
      },
      "source": [
        "### \"extra credits\"\n",
        "\n",
        "**How could you _force_ a significant result?**\n",
        "Organize your result for different magnitude threshold in a numpy array (it should be a 5x5 array) for both cutoffs (0.01 and 0.001). Each of these arrays should contain the p-value for the pair of distributions i,j in cell \\[i\\]\\[j\\] and \\[j\\]\\[i\\]. Use ```imshow``` to visualize this 2D data. FIrst visualize the matrix itself as done below."
      ]
    },
    {
      "cell_type": "code",
      "execution_count": null,
      "metadata": {
        "ExecuteTime": {
          "end_time": "2019-09-09T02:02:18.672458Z",
          "start_time": "2019-09-09T02:02:18.553137Z"
        },
        "colab": {
          "base_uri": "https://localhost:8080/",
          "height": 287
        },
        "id": "mqQSdpVEhXs5",
        "outputId": "f6a3e3c6-0706-44b9-995b-73321f492bf4"
      },
      "outputs": [
        {
          "data": {
            "image/png": "[encoded data removed]",
            "text/plain": [
              "<Figure size 432x288 with 2 Axes>"
            ]
          },
          "metadata": {
            "tags": []
          },
          "output_type": "display_data"
        }
      ],
      "source": [
        "# your code here\n",
        "\n",
        "pl.imshow((ks_001));\n",
        "pl.axis('off')\n",
        "cb = pl.colorbar()\n",
        "cb.ax.set_ylabel(r'$p$-value')\n",
        "pl.title(\"KS test results\");\n",
        "#add a caption"
      ]
    },
    {
      "cell_type": "markdown",
      "metadata": {
        "id": "tSJmSMCmmA3w"
      },
      "source": [
        "\n",
        "Now visualize the result as a matrix where the cells are white if the results is not statistically significant and red otherwise.\n",
        "After doing it fot the set alpha threshold, lower your alpha threshold so that at least one pair of distribution has a statistically significant difference. **Warning!! this is an _unethical and horrifying practice_! Once you chose your significance threshold you are never allowed to change it! Why? Discuss**"
      ]
    },
    {
      "cell_type": "markdown",
      "metadata": {
        "id": "txEYubwCcIXP"
      },
      "source": [
        "Redoing it for threshold 0001"
      ]
    }
  ],
  "metadata": {
    "colab": {
      "include_colab_link": true,
      "name": "KS_earthquakes.ipynb",
      "provenance": []
    },
    "kernelspec": {
      "display_name": "Python 3",
      "language": "python",
      "name": "python3"
    },
    "language_info": {
      "codemirror_mode": {
        "name": "ipython",
        "version": 3
      },
      "file_extension": ".py",
      "mimetype": "text/x-python",
      "name": "python",
      "nbconvert_exporter": "python",
      "pygments_lexer": "ipython3",
      "version": "3.6.8"
    },
    "latex_envs": {
      "LaTeX_envs_menu_present": true,
      "autoclose": false,
      "autocomplete": true,
      "bibliofile": "biblio.bib",
      "cite_by": "apalike",
      "current_citInitial": 1,
      "eqLabelWithNumbers": true,
      "eqNumInitial": 1,
      "hotkeys": {
        "equation": "Ctrl-E",
        "itemize": "Ctrl-I"
      },
      "labels_anchors": false,
      "latex_user_defs": false,
      "report_style_numbering": false,
      "user_envs_cfg": false
    },
    "nbTranslate": {
      "displayLangs": [
        "*"
      ],
      "hotkey": "alt-t",
      "langInMainMenu": true,
      "sourceLang": "en",
      "targetLang": "fr",
      "useGoogleTranslate": true
    },
    "toc": {
      "base_numbering": 1,
      "nav_menu": {},
      "number_sections": true,
      "sideBar": true,
      "skip_h1_title": false,
      "title_cell": "Table of Contents",
      "title_sidebar": "Contents",
      "toc_cell": false,
      "toc_position": {},
      "toc_section_display": true,
      "toc_window_display": false
    }
  },
  "nbformat": 4,
  "nbformat_minor": 0
}
